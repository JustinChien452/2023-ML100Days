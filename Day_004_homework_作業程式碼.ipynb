{
 "cells": [
  {
   "cell_type": "markdown",
   "metadata": {},
   "source": [
    "# EDA：欄位的資料類型介紹及處理 - 作業程式碼"
   ]
  },
  {
   "cell_type": "markdown",
   "metadata": {},
   "source": [
    "本次作業需要完成兩個部分：\n",
    "- Part1. 請按照下方程式碼提示，建立出 Series 與 DataFrame\n",
    "- Part2. 請上「政府資料開放平臺」，找到感興趣的資料集（限定檔案格式要 CSV 檔或是 Excel 檔），並匯入至 Python，進一步使用 .loc、.iloc 挑選出特定的資料\n",
    "\n",
    "政府資料開放平臺：https://data.gov.tw/"
   ]
  },
  {
   "cell_type": "code",
   "execution_count": 208,
   "metadata": {},
   "outputs": [],
   "source": [
    "import numpy as np\n",
    "import pandas as pd"
   ]
  },
  {
   "cell_type": "markdown",
   "metadata": {},
   "source": [
    "## Part1. 請按照下方程式碼提示，建立出 Series 與 DataFrame"
   ]
  },
  {
   "cell_type": "code",
   "execution_count": 209,
   "metadata": {},
   "outputs": [
    {
     "data": {
      "text/plain": [
       "0    53\n",
       "1    12\n",
       "2    50\n",
       "3    39\n",
       "4    28\n",
       "5    59\n",
       "dtype: int64"
      ]
     },
     "execution_count": 209,
     "metadata": {},
     "output_type": "execute_result"
    }
   ],
   "source": [
    "a_list = [53, 12, 50, 39, 28, 59]\n",
    "\"\"\" 請使用 a_list 建立 Series \"\"\"\n",
    "pd.Series(a_list)"
   ]
  },
  {
   "cell_type": "code",
   "execution_count": 210,
   "metadata": {},
   "outputs": [
    {
     "data": {
      "text/html": [
       "<div>\n",
       "<style scoped>\n",
       "    .dataframe tbody tr th:only-of-type {\n",
       "        vertical-align: middle;\n",
       "    }\n",
       "\n",
       "    .dataframe tbody tr th {\n",
       "        vertical-align: top;\n",
       "    }\n",
       "\n",
       "    .dataframe thead th {\n",
       "        text-align: right;\n",
       "    }\n",
       "</style>\n",
       "<table border=\"1\" class=\"dataframe\">\n",
       "  <thead>\n",
       "    <tr style=\"text-align: right;\">\n",
       "      <th></th>\n",
       "      <th>Column_A</th>\n",
       "      <th>Column_B</th>\n",
       "      <th>Column_C</th>\n",
       "    </tr>\n",
       "  </thead>\n",
       "  <tbody>\n",
       "    <tr>\n",
       "      <th>Andy</th>\n",
       "      <td>14</td>\n",
       "      <td>23</td>\n",
       "      <td>36</td>\n",
       "    </tr>\n",
       "    <tr>\n",
       "      <th>Tom</th>\n",
       "      <td>41</td>\n",
       "      <td>51</td>\n",
       "      <td>64</td>\n",
       "    </tr>\n",
       "    <tr>\n",
       "      <th>Amy</th>\n",
       "      <td>77</td>\n",
       "      <td>83</td>\n",
       "      <td>93</td>\n",
       "    </tr>\n",
       "  </tbody>\n",
       "</table>\n",
       "</div>"
      ],
      "text/plain": [
       "      Column_A  Column_B  Column_C\n",
       "Andy        14        23        36\n",
       "Tom         41        51        64\n",
       "Amy         77        83        93"
      ]
     },
     "execution_count": 210,
     "metadata": {},
     "output_type": "execute_result"
    }
   ],
   "source": [
    "\"\"\" 請使用 a_2D_list 建立 DataFrame，並分別使用 index_list、column_name_list 定義 Index 與 Column Name\"\"\"\n",
    "a_2D_list = [[14, 23, 36],\n",
    "             [41, 51, 64],\n",
    "             [77, 83, 93]]\n",
    "column_name_list = [\"Column_A\", \"Column_B\", \"Column_C\"]\n",
    "index_list = [\"Andy\", \"Tom\", \"Amy\"]\n",
    "pd.DataFrame(a_2D_list, index_list, column_name_list)\n",
    "\n",
    "\n"
   ]
  },
  {
   "cell_type": "code",
   "execution_count": null,
   "metadata": {},
   "outputs": [],
   "source": []
  },
  {
   "cell_type": "markdown",
   "metadata": {},
   "source": [
    "## Part2. 請上「政府資料開放平臺」，找到感興趣的資料集（限定檔案格式要 CSV 檔或是 Excel 檔），並匯入至 Python，進一步使用 .loc、.iloc 挑選出特定的資料"
   ]
  },
  {
   "cell_type": "code",
   "execution_count": 211,
   "metadata": {},
   "outputs": [
    {
     "data": {
      "text/html": [
       "<div>\n",
       "<style scoped>\n",
       "    .dataframe tbody tr th:only-of-type {\n",
       "        vertical-align: middle;\n",
       "    }\n",
       "\n",
       "    .dataframe tbody tr th {\n",
       "        vertical-align: top;\n",
       "    }\n",
       "\n",
       "    .dataframe thead th {\n",
       "        text-align: right;\n",
       "    }\n",
       "</style>\n",
       "<table border=\"1\" class=\"dataframe\">\n",
       "  <thead>\n",
       "    <tr style=\"text-align: right;\">\n",
       "      <th></th>\n",
       "      <th>序號</th>\n",
       "      <th>業別</th>\n",
       "      <th>業者名稱</th>\n",
       "      <th>地址</th>\n",
       "      <th>縣市別代碼</th>\n",
       "      <th>地址-行政區域代碼</th>\n",
       "      <th>地址-村里</th>\n",
       "      <th>地址-街路門牌</th>\n",
       "      <th>電話</th>\n",
       "      <th>分機</th>\n",
       "      <th>採樣點</th>\n",
       "      <th>室內</th>\n",
       "      <th>室外</th>\n",
       "      <th>抽驗日期</th>\n",
       "      <th>檢驗結果</th>\n",
       "      <th>備註</th>\n",
       "    </tr>\n",
       "  </thead>\n",
       "  <tbody>\n",
       "    <tr>\n",
       "      <th>0</th>\n",
       "      <td>1</td>\n",
       "      <td>溫泉</td>\n",
       "      <td>芳谷企業有限公司</td>\n",
       "      <td>臺南市白河區關嶺里24-11號</td>\n",
       "      <td>67000</td>\n",
       "      <td>67000030</td>\n",
       "      <td>關嶺里</td>\n",
       "      <td>24-11號</td>\n",
       "      <td>(06)6822510</td>\n",
       "      <td>NaN</td>\n",
       "      <td>個人池(湯屋)</td>\n",
       "      <td>V</td>\n",
       "      <td>NaN</td>\n",
       "      <td>20210104</td>\n",
       "      <td>符合規定</td>\n",
       "      <td>NaN</td>\n",
       "    </tr>\n",
       "    <tr>\n",
       "      <th>1</th>\n",
       "      <td>2</td>\n",
       "      <td>溫泉</td>\n",
       "      <td>宏嶺山莊</td>\n",
       "      <td>臺南市白河區關嶺里24-12號</td>\n",
       "      <td>67000</td>\n",
       "      <td>67000030</td>\n",
       "      <td>關嶺里</td>\n",
       "      <td>24-12號</td>\n",
       "      <td>(06)6822347</td>\n",
       "      <td>NaN</td>\n",
       "      <td>個人池(湯屋)</td>\n",
       "      <td>V</td>\n",
       "      <td>NaN</td>\n",
       "      <td>20210104</td>\n",
       "      <td>複驗符合規定</td>\n",
       "      <td>初驗生菌數超標，複驗與規定相符。</td>\n",
       "    </tr>\n",
       "    <tr>\n",
       "      <th>2</th>\n",
       "      <td>3</td>\n",
       "      <td>溫泉</td>\n",
       "      <td>統茂大飯店股份有限公司關子嶺分公司</td>\n",
       "      <td>臺南市白河區關嶺里28號</td>\n",
       "      <td>67000</td>\n",
       "      <td>67000030</td>\n",
       "      <td>關嶺里</td>\n",
       "      <td>28號</td>\n",
       "      <td>(06)6823456</td>\n",
       "      <td>NaN</td>\n",
       "      <td>個人池(湯屋)</td>\n",
       "      <td>V</td>\n",
       "      <td>NaN</td>\n",
       "      <td>20210104</td>\n",
       "      <td>符合規定</td>\n",
       "      <td>NaN</td>\n",
       "    </tr>\n",
       "    <tr>\n",
       "      <th>3</th>\n",
       "      <td>4</td>\n",
       "      <td>溫泉</td>\n",
       "      <td>統茂大飯店股份有限公司關子嶺分公司</td>\n",
       "      <td>臺南市白河區關嶺里28號</td>\n",
       "      <td>67000</td>\n",
       "      <td>67000030</td>\n",
       "      <td>關嶺里</td>\n",
       "      <td>28號</td>\n",
       "      <td>(06)6823456</td>\n",
       "      <td>NaN</td>\n",
       "      <td>大眾池(湯池)</td>\n",
       "      <td>NaN</td>\n",
       "      <td>V</td>\n",
       "      <td>20210104</td>\n",
       "      <td>符合規定</td>\n",
       "      <td>NaN</td>\n",
       "    </tr>\n",
       "    <tr>\n",
       "      <th>4</th>\n",
       "      <td>5</td>\n",
       "      <td>溫泉</td>\n",
       "      <td>儷景溫泉會館</td>\n",
       "      <td>臺南市白河區關嶺里61-5號</td>\n",
       "      <td>67000</td>\n",
       "      <td>67000030</td>\n",
       "      <td>關嶺里</td>\n",
       "      <td>61-5號</td>\n",
       "      <td>(06)6822588</td>\n",
       "      <td>NaN</td>\n",
       "      <td>個人池(湯屋)</td>\n",
       "      <td>V</td>\n",
       "      <td>NaN</td>\n",
       "      <td>20210104</td>\n",
       "      <td>符合規定</td>\n",
       "      <td>NaN</td>\n",
       "    </tr>\n",
       "    <tr>\n",
       "      <th>...</th>\n",
       "      <td>...</td>\n",
       "      <td>...</td>\n",
       "      <td>...</td>\n",
       "      <td>...</td>\n",
       "      <td>...</td>\n",
       "      <td>...</td>\n",
       "      <td>...</td>\n",
       "      <td>...</td>\n",
       "      <td>...</td>\n",
       "      <td>...</td>\n",
       "      <td>...</td>\n",
       "      <td>...</td>\n",
       "      <td>...</td>\n",
       "      <td>...</td>\n",
       "      <td>...</td>\n",
       "      <td>...</td>\n",
       "    </tr>\n",
       "    <tr>\n",
       "      <th>395</th>\n",
       "      <td>396</td>\n",
       "      <td>三溫暖</td>\n",
       "      <td>煙波國際觀光股份有限公司</td>\n",
       "      <td>臺南市中西區永福路一段269號</td>\n",
       "      <td>67000</td>\n",
       "      <td>67000370</td>\n",
       "      <td>NaN</td>\n",
       "      <td>永福路一段269號</td>\n",
       "      <td>(06)2141758</td>\n",
       "      <td>NaN</td>\n",
       "      <td>女冷池</td>\n",
       "      <td>V</td>\n",
       "      <td>NaN</td>\n",
       "      <td>20211207</td>\n",
       "      <td>符合規定</td>\n",
       "      <td>NaN</td>\n",
       "    </tr>\n",
       "    <tr>\n",
       "      <th>396</th>\n",
       "      <td>397</td>\n",
       "      <td>三溫暖</td>\n",
       "      <td>大員開發事業股份有限公司台南分公司</td>\n",
       "      <td>臺南市安平區州平路289號</td>\n",
       "      <td>67000</td>\n",
       "      <td>67000360</td>\n",
       "      <td>NaN</td>\n",
       "      <td>州平路289號</td>\n",
       "      <td>(06)3911899</td>\n",
       "      <td>NaN</td>\n",
       "      <td>男熱池</td>\n",
       "      <td>V</td>\n",
       "      <td>NaN</td>\n",
       "      <td>20211207</td>\n",
       "      <td>符合規定</td>\n",
       "      <td>NaN</td>\n",
       "    </tr>\n",
       "    <tr>\n",
       "      <th>397</th>\n",
       "      <td>398</td>\n",
       "      <td>三溫暖</td>\n",
       "      <td>大員開發事業股份有限公司台南分公司</td>\n",
       "      <td>臺南市安平區州平路289號</td>\n",
       "      <td>67000</td>\n",
       "      <td>67000360</td>\n",
       "      <td>NaN</td>\n",
       "      <td>州平路289號</td>\n",
       "      <td>(06)3911899</td>\n",
       "      <td>NaN</td>\n",
       "      <td>男冷池</td>\n",
       "      <td>V</td>\n",
       "      <td>NaN</td>\n",
       "      <td>20211207</td>\n",
       "      <td>符合規定</td>\n",
       "      <td>NaN</td>\n",
       "    </tr>\n",
       "    <tr>\n",
       "      <th>398</th>\n",
       "      <td>399</td>\n",
       "      <td>三溫暖</td>\n",
       "      <td>大員開發事業股份有限公司台南分公司</td>\n",
       "      <td>臺南市安平區州平路289號</td>\n",
       "      <td>67000</td>\n",
       "      <td>67000360</td>\n",
       "      <td>NaN</td>\n",
       "      <td>州平路289號</td>\n",
       "      <td>(06)3911899</td>\n",
       "      <td>NaN</td>\n",
       "      <td>女熱池</td>\n",
       "      <td>V</td>\n",
       "      <td>NaN</td>\n",
       "      <td>20211207</td>\n",
       "      <td>符合規定</td>\n",
       "      <td>NaN</td>\n",
       "    </tr>\n",
       "    <tr>\n",
       "      <th>399</th>\n",
       "      <td>400</td>\n",
       "      <td>三溫暖</td>\n",
       "      <td>大員開發事業股份有限公司台南分公司</td>\n",
       "      <td>臺南市安平區州平路289號</td>\n",
       "      <td>67000</td>\n",
       "      <td>67000360</td>\n",
       "      <td>NaN</td>\n",
       "      <td>州平路289號</td>\n",
       "      <td>(06)3911899</td>\n",
       "      <td>NaN</td>\n",
       "      <td>女冷池</td>\n",
       "      <td>V</td>\n",
       "      <td>NaN</td>\n",
       "      <td>20211207</td>\n",
       "      <td>符合規定</td>\n",
       "      <td>NaN</td>\n",
       "    </tr>\n",
       "  </tbody>\n",
       "</table>\n",
       "<p>400 rows × 16 columns</p>\n",
       "</div>"
      ],
      "text/plain": [
       "      序號   業別               業者名稱               地址  縣市別代碼  地址-行政區域代碼 地址-村里  \\\n",
       "0      1   溫泉           芳谷企業有限公司  臺南市白河區關嶺里24-11號  67000   67000030   關嶺里   \n",
       "1      2   溫泉               宏嶺山莊  臺南市白河區關嶺里24-12號  67000   67000030   關嶺里   \n",
       "2      3   溫泉  統茂大飯店股份有限公司關子嶺分公司     臺南市白河區關嶺里28號  67000   67000030   關嶺里   \n",
       "3      4   溫泉  統茂大飯店股份有限公司關子嶺分公司     臺南市白河區關嶺里28號  67000   67000030   關嶺里   \n",
       "4      5   溫泉             儷景溫泉會館   臺南市白河區關嶺里61-5號  67000   67000030   關嶺里   \n",
       "..   ...  ...                ...              ...    ...        ...   ...   \n",
       "395  396  三溫暖       煙波國際觀光股份有限公司  臺南市中西區永福路一段269號  67000   67000370   NaN   \n",
       "396  397  三溫暖  大員開發事業股份有限公司台南分公司    臺南市安平區州平路289號  67000   67000360   NaN   \n",
       "397  398  三溫暖  大員開發事業股份有限公司台南分公司    臺南市安平區州平路289號  67000   67000360   NaN   \n",
       "398  399  三溫暖  大員開發事業股份有限公司台南分公司    臺南市安平區州平路289號  67000   67000360   NaN   \n",
       "399  400  三溫暖  大員開發事業股份有限公司台南分公司    臺南市安平區州平路289號  67000   67000360   NaN   \n",
       "\n",
       "       地址-街路門牌           電話   分機      採樣點   室內   室外      抽驗日期    檢驗結果  \\\n",
       "0       24-11號  (06)6822510  NaN  個人池(湯屋)    V  NaN  20210104    符合規定   \n",
       "1       24-12號  (06)6822347  NaN  個人池(湯屋)    V  NaN  20210104  複驗符合規定   \n",
       "2          28號  (06)6823456  NaN  個人池(湯屋)    V  NaN  20210104    符合規定   \n",
       "3          28號  (06)6823456  NaN  大眾池(湯池)  NaN    V  20210104    符合規定   \n",
       "4        61-5號  (06)6822588  NaN  個人池(湯屋)    V  NaN  20210104    符合規定   \n",
       "..         ...          ...  ...      ...  ...  ...       ...     ...   \n",
       "395  永福路一段269號  (06)2141758  NaN      女冷池    V  NaN  20211207    符合規定   \n",
       "396    州平路289號  (06)3911899  NaN      男熱池    V  NaN  20211207    符合規定   \n",
       "397    州平路289號  (06)3911899  NaN      男冷池    V  NaN  20211207    符合規定   \n",
       "398    州平路289號  (06)3911899  NaN      女熱池    V  NaN  20211207    符合規定   \n",
       "399    州平路289號  (06)3911899  NaN      女冷池    V  NaN  20211207    符合規定   \n",
       "\n",
       "                   備註  \n",
       "0                 NaN  \n",
       "1    初驗生菌數超標，複驗與規定相符。  \n",
       "2                 NaN  \n",
       "3                 NaN  \n",
       "4                 NaN  \n",
       "..                ...  \n",
       "395               NaN  \n",
       "396               NaN  \n",
       "397               NaN  \n",
       "398               NaN  \n",
       "399               NaN  \n",
       "\n",
       "[400 rows x 16 columns]"
      ]
     },
     "execution_count": 211,
     "metadata": {},
     "output_type": "execute_result"
    }
   ],
   "source": [
    "\"\"\" 請匯入 CSV 檔案或是 Excel 檔案 \"\"\"\n",
    "#將 CSV 檔案匯入並轉換成 DataFrame\n",
    "raw_data = pd.read_csv(\"data/110年臺南市抽驗水質(溫泉、游泳池、三溫暖)檢驗結果總表__20220209更新.csv\")\n",
    "raw_data\n",
    "\n"
   ]
  },
  {
   "cell_type": "code",
   "execution_count": 212,
   "metadata": {},
   "outputs": [
    {
     "data": {
      "text/plain": [
       "序號                          2\n",
       "業別                         溫泉\n",
       "業者名稱                     宏嶺山莊\n",
       "地址            臺南市白河區關嶺里24-12號\n",
       "縣市別代碼                   67000\n",
       "地址-行政區域代碼            67000030\n",
       "地址-村里                     關嶺里\n",
       "地址-街路門牌                24-12號\n",
       "電話                (06)6822347\n",
       "分機                        NaN\n",
       "採樣點                   個人池(湯屋)\n",
       "室內                          V\n",
       "室外                        NaN\n",
       "抽驗日期                 20210104\n",
       "檢驗結果                   複驗符合規定\n",
       "備註           初驗生菌數超標，複驗與規定相符。\n",
       "Name: 1, dtype: object"
      ]
     },
     "execution_count": 212,
     "metadata": {},
     "output_type": "execute_result"
    }
   ],
   "source": [
    "\"\"\" 請使用 .loc 挑選出三組感興趣的資料，並詳細說明對哪三組資料感興趣\"\"\"\n",
    "#挑選序號2檢驗結果\n",
    "raw_data.loc[1,:]"
   ]
  },
  {
   "cell_type": "code",
   "execution_count": 213,
   "metadata": {},
   "outputs": [
    {
     "data": {
      "text/plain": [
       "0       溫泉\n",
       "1       溫泉\n",
       "2       溫泉\n",
       "3       溫泉\n",
       "4       溫泉\n",
       "      ... \n",
       "395    三溫暖\n",
       "396    三溫暖\n",
       "397    三溫暖\n",
       "398    三溫暖\n",
       "399    三溫暖\n",
       "Name: 業別, Length: 400, dtype: object"
      ]
     },
     "execution_count": 213,
     "metadata": {},
     "output_type": "execute_result"
    }
   ],
   "source": [
    "#挑選第1個位置檢驗結果\n",
    "raw_data.loc[:,\"業別\"]"
   ]
  },
  {
   "cell_type": "code",
   "execution_count": 214,
   "metadata": {},
   "outputs": [
    {
     "data": {
      "text/plain": [
       "0      臺南市白河區關嶺里24-11號\n",
       "1      臺南市白河區關嶺里24-12號\n",
       "2         臺南市白河區關嶺里28號\n",
       "3         臺南市白河區關嶺里28號\n",
       "4       臺南市白河區關嶺里61-5號\n",
       "            ...       \n",
       "395    臺南市中西區永福路一段269號\n",
       "396      臺南市安平區州平路289號\n",
       "397      臺南市安平區州平路289號\n",
       "398      臺南市安平區州平路289號\n",
       "399      臺南市安平區州平路289號\n",
       "Name: 地址, Length: 400, dtype: object"
      ]
     },
     "execution_count": 214,
     "metadata": {},
     "output_type": "execute_result"
    }
   ],
   "source": [
    "#挑選所在地址\n",
    "raw_data.loc[:,\"地址\"]"
   ]
  },
  {
   "cell_type": "code",
   "execution_count": 215,
   "metadata": {},
   "outputs": [
    {
     "data": {
      "text/plain": [
       "序號                           3\n",
       "業別                          溫泉\n",
       "業者名稱         統茂大飯店股份有限公司關子嶺分公司\n",
       "地址                臺南市白河區關嶺里28號\n",
       "縣市別代碼                    67000\n",
       "地址-行政區域代碼             67000030\n",
       "地址-村里                      關嶺里\n",
       "地址-街路門牌                    28號\n",
       "電話                 (06)6823456\n",
       "分機                         NaN\n",
       "採樣點                    個人池(湯屋)\n",
       "室內                           V\n",
       "室外                         NaN\n",
       "抽驗日期                  20210104\n",
       "檢驗結果                      符合規定\n",
       "備註                         NaN\n",
       "Name: 2, dtype: object"
      ]
     },
     "execution_count": 215,
     "metadata": {},
     "output_type": "execute_result"
    }
   ],
   "source": [
    "\"\"\" 請使用 .iloc 挑選出三組感興趣的資料，並詳細說明對哪三組資料感興趣\"\"\"\n",
    "#挑選序號2檢驗結果\n",
    "raw_data.iloc[2,:]"
   ]
  },
  {
   "cell_type": "code",
   "execution_count": 216,
   "metadata": {},
   "outputs": [
    {
     "data": {
      "text/plain": [
       "0       溫泉\n",
       "1       溫泉\n",
       "2       溫泉\n",
       "3       溫泉\n",
       "4       溫泉\n",
       "      ... \n",
       "395    三溫暖\n",
       "396    三溫暖\n",
       "397    三溫暖\n",
       "398    三溫暖\n",
       "399    三溫暖\n",
       "Name: 業別, Length: 400, dtype: object"
      ]
     },
     "execution_count": 216,
     "metadata": {},
     "output_type": "execute_result"
    }
   ],
   "source": [
    "#挑選第1個位置且所有資料\n",
    "raw_data.iloc[:,1]"
   ]
  },
  {
   "cell_type": "code",
   "execution_count": 217,
   "metadata": {},
   "outputs": [
    {
     "data": {
      "text/plain": [
       "0      臺南市白河區關嶺里24-11號\n",
       "1      臺南市白河區關嶺里24-12號\n",
       "2         臺南市白河區關嶺里28號\n",
       "3         臺南市白河區關嶺里28號\n",
       "4       臺南市白河區關嶺里61-5號\n",
       "            ...       \n",
       "395    臺南市中西區永福路一段269號\n",
       "396      臺南市安平區州平路289號\n",
       "397      臺南市安平區州平路289號\n",
       "398      臺南市安平區州平路289號\n",
       "399      臺南市安平區州平路289號\n",
       "Name: 地址, Length: 400, dtype: object"
      ]
     },
     "execution_count": 217,
     "metadata": {},
     "output_type": "execute_result"
    }
   ],
   "source": [
    "#挑選所在地址\n",
    "raw_data.iloc[:,3]"
   ]
  },
  {
   "cell_type": "code",
   "execution_count": null,
   "metadata": {},
   "outputs": [],
   "source": []
  }
 ],
 "metadata": {
  "kernelspec": {
   "display_name": "Python 3 (ipykernel)",
   "language": "python",
   "name": "python3"
  },
  "language_info": {
   "codemirror_mode": {
    "name": "ipython",
    "version": 3
   },
   "file_extension": ".py",
   "mimetype": "text/x-python",
   "name": "python",
   "nbconvert_exporter": "python",
   "pygments_lexer": "ipython3",
   "version": "3.10.4"
  },
  "vscode": {
   "interpreter": {
    "hash": "158ae04e2f2f0956d11d7c2a375b41032251c36f0a4035209b3d278a3645b1ef"
   }
  }
 },
 "nbformat": 4,
 "nbformat_minor": 4
}
